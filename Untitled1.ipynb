{
 "cells": [
  {
   "cell_type": "code",
   "execution_count": 1,
   "id": "printable-norwegian",
   "metadata": {},
   "outputs": [
    {
     "name": "stdout",
     "output_type": "stream",
     "text": [
      "5\n"
     ]
    }
   ],
   "source": [
    "#yazı tura atarken, kaç deneyde kaç yazı gelebileceğine bakalım. Deney sayımız(n) \n",
    "#10 olsun\n",
    "import numpy as np\n",
    "import collections\n",
    "n, h_number=10,0 #n,deney sayısını; h_number, kaç defa tura geldiğini tutuyor.\n",
    "t=[]\n",
    "for i in range (n):\n",
    "    outcome = np.random.choice(['H','T']) # H: tura, T:yazı\n",
    "    t.append(outcome)\n",
    "    if outcome =='H':\n",
    "        h_number+=1\n",
    "    collections.Counter(t)\n",
    "print(h_number) #bu kod sadece n kadar deneyde kaç yazı geleceğine bakar. \n",
    "#Oranı vermeyecektir\n",
    "#fonksiyon haline getirip tekrar for döngüsüne alabiliriz.\n",
    "\n"
   ]
  },
  {
   "cell_type": "code",
   "execution_count": 2,
   "id": "exempt-brunei",
   "metadata": {},
   "outputs": [
    {
     "data": {
      "text/plain": [
       "0.49"
      ]
     },
     "execution_count": 2,
     "metadata": {},
     "output_type": "execute_result"
    }
   ],
   "source": [
    "#simdi bu olasılıkların birbirine yaklaşıp yaklaşmadığını görmek için \n",
    "#fonksiyon yapalım\n",
    "import numpy as np\n",
    "import collections\n",
    "def my_f(n=100):\n",
    "    h_number=0\n",
    "    t=[]\n",
    "    for i in range (n):\n",
    "        outcome = np.random.choice(['H','T']) # H: tura, T:yazı\n",
    "        t.append(outcome)\n",
    "        if outcome =='H':\n",
    "            h_number+=1\n",
    "    collections.Counter(t)\n",
    "    return h_number/n\n",
    "my_f() #parantez içine hangi sayı konursa deney o kadar tekrarlanır.\n"
   ]
  },
  {
   "cell_type": "code",
   "execution_count": 3,
   "id": "emotional-camel",
   "metadata": {},
   "outputs": [
    {
     "data": {
      "text/plain": [
       "Counter({'H': 5, 'T': 5})"
      ]
     },
     "execution_count": 3,
     "metadata": {},
     "output_type": "execute_result"
    }
   ],
   "source": [
    "collections.Counter(t) #t listesine atılan yazı(T) ve tura(H) sayısını tutuyor.\n"
   ]
  },
  {
   "cell_type": "code",
   "execution_count": 4,
   "id": "treated-plant",
   "metadata": {},
   "outputs": [
    {
     "data": {
      "text/plain": [
       "(0.16549, 0.16672)"
      ]
     },
     "execution_count": 4,
     "metadata": {},
     "output_type": "execute_result"
    }
   ],
   "source": [
    "#bu fonksiyonda da n defa zar atıp, belirlenen rakamın kaç kere gelebileceği \n",
    "#olasılığına bakıyor.\n",
    "def my_f_for_die(n=100000):#n'i yükselttikçe sonucun/sonucların 0,16 çevresinde \n",
    "#değiştiğini görüyoruz\n",
    "    number_of_1=0\n",
    "    number_of_4=0\n",
    "    t=[]\n",
    "    for i in range(n):\n",
    "        outcome =np.random.choice([1,2,3,4,5,6])\n",
    "        t.append(outcome)\n",
    "        if outcome ==1:\n",
    "            number_of_1 +=1\n",
    "        if outcome ==4:\n",
    "            number_of_4 +=1\n",
    "    return number_of_1 / n , number_of_4 /n\n",
    "my_f_for_die()"
   ]
  },
  {
   "cell_type": "code",
   "execution_count": 5,
   "id": "pediatric-ivory",
   "metadata": {},
   "outputs": [
    {
     "name": "stdout",
     "output_type": "stream",
     "text": [
      "['white', 'white'] bilinen yüz: white , bilinmeyen yüz: white "
     ]
    }
   ],
   "source": [
    "#simdi de üç kart bulunan bir torbadan bir kart seçip görünen yüzün rengine göre\n",
    "#arkadaki rengi tahmin etmeue çalışalım\n",
    "#üç karttan birinin iki yüzü de siyah, birinin siyah beyaz, birinin de iki yüzü \n",
    "#de beyaz olsun.\n",
    "#masaya konan kartın görünen yüzü siyah ise görünmeyen yüzün siyah olma olasılığı?\n",
    "import random\n",
    "c_1=['black', 'black']\n",
    "c_2=['white', 'white']\n",
    "c_3=['black', 'white']\n",
    "cards=[c_1, c_2,c_3] #oluşturduğumuz kartları listeye aldık.Random bir seçim \n",
    "#yapabilmek için\n",
    "\n",
    "select_card=random.choice(cards)\n",
    "print(select_card, end=\" \")\n",
    "select_face=random.choice(select_card)\n",
    "select_card.remove(select_face)\n",
    "unseen_face=select_card[0]\n",
    "print(\"bilinen yüz:\", select_face, \", bilinmeyen yüz:\" ,unseen_face, end=\" \")"
   ]
  },
  {
   "cell_type": "code",
   "execution_count": 6,
   "id": "saved-plaintiff",
   "metadata": {},
   "outputs": [],
   "source": [
    "#simdi bu kodu fonksiona çevirip birkaç olasılığı aynı anda görüp düşünelim\n",
    "def my_f_5():\n",
    "    b_number=0 #siyah gelen yüz sayısı başta 0 olur.\n",
    "    c_1=['black', 'black']\n",
    "    c_2=['white', 'white']\n",
    "    c_3=['black', 'white']\n",
    "    cards=[c_1, c_2,c_3]\n",
    "    \n",
    "    select_card=random.choice(cards)\n",
    "    print(select_card, end=\" \")\n",
    "    \n",
    "    select_face=random.choice(select_card)\n",
    "    select_card.remove(select_face)\n",
    "    unseen_face=select_card[0]\n",
    "    print(\"bilinen:\", select_face, \", bilinmeyen:\" ,unseen_face, end=\" \")\n",
    "    \n",
    "    if select_face=='black':\n",
    "        b_number+=1 #süste gelen yüz siyahsa siyah yüz sayısını artırıyorum\n",
    "        print(\" +\")#eğer üste gelen yüz siyahsa + veriyoruz.\n",
    "    else:\n",
    "        print()\n",
    "    return b_number\n",
    "#bu fonksiyon sadece tek bir değer döndürüR"
   ]
  },
  {
   "cell_type": "code",
   "execution_count": 7,
   "id": "married-linux",
   "metadata": {},
   "outputs": [
    {
     "name": "stdout",
     "output_type": "stream",
     "text": [
      "['black', 'black'] bilinen: black , bilinmeyen: black  +\n",
      "['black', 'white'] bilinen: black , bilinmeyen: white  +\n",
      "['black', 'white'] bilinen: white , bilinmeyen: black \n",
      "['white', 'white'] bilinen: white , bilinmeyen: white \n",
      "['white', 'white'] bilinen: white , bilinmeyen: white \n",
      "['black', 'black'] bilinen: black , bilinmeyen: black  +\n",
      "['white', 'white'] bilinen: white , bilinmeyen: white \n",
      "['black', 'black'] bilinen: black , bilinmeyen: black  +\n",
      "['black', 'white'] bilinen: black , bilinmeyen: white  +\n",
      "['white', 'white'] bilinen: white , bilinmeyen: white \n"
     ]
    }
   ],
   "source": [
    "for i in range(10):\n",
    "    my_f_5()"
   ]
  },
  {
   "cell_type": "code",
   "execution_count": 8,
   "id": "instructional-event",
   "metadata": {},
   "outputs": [
    {
     "name": "stdout",
     "output_type": "stream",
     "text": [
      "['black', 'black'] bilinen: black , bilinmeyen: black  +\n",
      "['black', 'black'] bilinen: black , bilinmeyen: black  +\n",
      "['white', 'white'] bilinen: white , bilinmeyen: white \n",
      "['black', 'white'] bilinen: white , bilinmeyen: black \n",
      "['white', 'white'] bilinen: white , bilinmeyen: white \n",
      "['black', 'black'] bilinen: black , bilinmeyen: black  +\n",
      "['black', 'white'] bilinen: white , bilinmeyen: black \n",
      "['white', 'white'] bilinen: white , bilinmeyen: white \n",
      "['white', 'white'] bilinen: white , bilinmeyen: white \n",
      "['white', 'white'] bilinen: white , bilinmeyen: white \n"
     ]
    },
    {
     "data": {
      "text/plain": [
       "(10, 0)"
      ]
     },
     "execution_count": 8,
     "metadata": {},
     "output_type": "execute_result"
    }
   ],
   "source": [
    "n=10\n",
    "b=0\n",
    "for i in range(n):\n",
    "    b=my_f_5()\n",
    "n,b #n,deney sayısı; b,siyah gelen yüz sayısını verecek"
   ]
  },
  {
   "cell_type": "code",
   "execution_count": 9,
   "id": "effective-cricket",
   "metadata": {},
   "outputs": [],
   "source": [
    "def my_f_5(p=False):\n",
    "    b_number=0 #üste gelen siyah yüz sayısını tutacak\n",
    "    w_number=0 #üste gelen siyah yüzün arka yüzünün beyaz olma durumunu\n",
    "    #tutacak\n",
    "    \n",
    "    c_1=['black', 'black']\n",
    "    c_2=['white', 'white']\n",
    "    c_3=['black', 'white']\n",
    "    cards=[c_1, c_2,c_3]\n",
    "    \n",
    "    select_card=random.choice(cards)\n",
    "    \n",
    "    if p:\n",
    "        print(select_card, end=\" \")\n",
    "    select_face=random.choice(select_card)\n",
    "    select_card.remove(select_face)\n",
    "    unseen_face=select_card[0]\n",
    "    if p:\n",
    "        print(select_face,  \"  bilinmeyen: \",unseen_face)\n",
    "    if select_face=='black':\n",
    "        b_number=b_number+1 #üste gelen yüz siyahsa, degişkeni artırdık\n",
    "        if p:\n",
    "            print(\"     +\")\n",
    "        if unseen_face=='white':\n",
    "            w_number+=1 #arkadaki görünmeyen yüz beyazsa, değişkeni artırdk\n",
    "    else:\n",
    "        if p:\n",
    "            print()\n",
    "    return b_number, w_number\n",
    "    "
   ]
  },
  {
   "cell_type": "code",
   "execution_count": 10,
   "id": "funky-wound",
   "metadata": {},
   "outputs": [
    {
     "data": {
      "text/plain": [
       "(1, 0)"
      ]
     },
     "execution_count": 10,
     "metadata": {},
     "output_type": "execute_result"
    }
   ],
   "source": [
    "my_f_5()"
   ]
  },
  {
   "cell_type": "code",
   "execution_count": 11,
   "id": "attended-experience",
   "metadata": {},
   "outputs": [
    {
     "data": {
      "text/plain": [
       "(10, 5, 3)"
      ]
     },
     "execution_count": 11,
     "metadata": {},
     "output_type": "execute_result"
    }
   ],
   "source": [
    "def my_f_6(n=10):\n",
    "    b=0 #5. fonksiyondan gelecek siyah yüz sayısını tutmak için yeni\n",
    "#bir değişken oluşturduk\n",
    "    w=0 #5. fonksiyondan gelecek beyaz yüz sayısını tutmak için yeni\n",
    "#bir değişken oluşturduk. Gelecek rakamlarla toplanacak.\n",
    "    for i in range(n):\n",
    "        b=b+my_f_5()[0] #5. fonksiyondan gelen ilk indexi topladk\n",
    "        w=w+my_f_5()[1] #5. fonksiyondan gelen 2. indexi topladık.\n",
    "    return n,b,w #n,deney sayısı; b,siyah yüz sayısı, w beyaz yüz sayısı\n",
    "\n",
    "my_f_6()\n",
    "    "
   ]
  },
  {
   "cell_type": "code",
   "execution_count": 12,
   "id": "aggregate-glasgow",
   "metadata": {},
   "outputs": [
    {
     "name": "stdout",
     "output_type": "stream",
     "text": [
      "(50, 16)\n",
      "(49, 16)\n",
      "(49, 16)\n",
      "(49, 17)\n",
      "(50, 17)\n",
      "(48, 16)\n",
      "(49, 16)\n",
      "(49, 16)\n",
      "(49, 16)\n",
      "(49, 15)\n"
     ]
    }
   ],
   "source": [
    "#simdi de n defa yapılan deneyde b kere üste gelen yüzün görünmeyen yüzünde\n",
    "#de beyaz olma durumunu incelediğimizde çıkan oranları toplu bir şekilde\n",
    "#inceleyebileceğimiz bir fonksiyon oluşturalım\n",
    "def my_f_10(n=100):\n",
    "    seen_face_number=0\n",
    "    unseen_face_number=0\n",
    "    \n",
    "    for i in range(n):\n",
    "        a,b,c=my_f_6(n) #6. fonksiyon üçlü dönüş yaptığı için üç değişkene\n",
    "        #atadık.\n",
    "        \n",
    "        seen_face_number+=b #fonksiyondan gelecek üst yüz siyah sayısı(b)\n",
    "        unseen_face_number+=c #fonksiyondan gelecek siyah yüzün arka beyaz \n",
    "        #yüz sayısı(c)\n",
    "    return int(seen_face_number/n), int(unseen_face_number/n)\n",
    "\n",
    "for i in range(10):\n",
    "    print(my_f_10())\n",
    "    \n",
    "    "
   ]
  },
  {
   "cell_type": "code",
   "execution_count": 13,
   "id": "obvious-stupid",
   "metadata": {},
   "outputs": [
    {
     "data": {
      "text/plain": [
       "(49, 16)"
      ]
     },
     "execution_count": 13,
     "metadata": {},
     "output_type": "execute_result"
    }
   ],
   "source": [
    "my_f_10() #yani bu fonksiyon (üste gelen siyah yüz)/n(deneysayısı) oranını ve\n",
    "#(üste gelen siyah yüzün arkasındaki yüzün beyaz olması)/n(deneysayısı) oranını veriyor"
   ]
  }
 ],
 "metadata": {
  "kernelspec": {
   "display_name": "Python 3",
   "language": "python",
   "name": "python3"
  },
  "language_info": {
   "codemirror_mode": {
    "name": "ipython",
    "version": 3
   },
   "file_extension": ".py",
   "mimetype": "text/x-python",
   "name": "python",
   "nbconvert_exporter": "python",
   "pygments_lexer": "ipython3",
   "version": "3.8.8"
  }
 },
 "nbformat": 4,
 "nbformat_minor": 5
}
